{
  "nbformat": 4,
  "nbformat_minor": 0,
  "metadata": {
    "colab": {
      "name": "Widebot_Task_1.ipynb",
      "provenance": [],
      "toc_visible": true
    },
    "kernelspec": {
      "name": "python3",
      "display_name": "Python 3"
    }
  },
  "cells": [
    {
      "cell_type": "markdown",
      "metadata": {
        "id": "RJ3mqhbrU9BA",
        "colab_type": "text"
      },
      "source": [
        "# Thought Process\n",
        "### Problem Exploration:\n",
        "* Explore wikipedia pages' structure\n",
        "* Valid vs invalid links to search (where to find valid links, how to eliminate invalid links)\n",
        "\n",
        "### Solution method:\n",
        "* Requested method is closest to DFS (depth first search)\n",
        "* Each website is a node in the directed graph while links are connections\n",
        "* Use BeautifulSoup to parse the HTML files obtained\n",
        "\n",
        "### Evaluation methods:\n",
        "* Number of nodes searched before reaching goal"
      ]
    },
    {
      "cell_type": "markdown",
      "metadata": {
        "id": "MAc1VuMHWZW4",
        "colab_type": "text"
      },
      "source": [
        "### Assumptions due to some vagueness in the task prompt:\n",
        "* Parentheses are assumed to be \"[  ]\", this can be changed by chaning the variable rejected_parentheses\n",
        "* Not in a box is assumed to be any kind of box (i.e. any tables in the main article)\n",
        "* Links from images are ignored using using the fact that link.text == 0 for links to images\n",
        "* Footnote is assumed to the footnote of the website\n",
        "* For simplicity, links are declared italic (and therefore rejected) if its closest parent is of type \\<i\\>\n",
        "* This means if only part of the link is italic it is considered as valid\n",
        "* If the word philosophy is in the title, it is counted as a completion\n",
        "\n",
        "### Any false assumptions about the validity of the links can be modified by changing is_link_valid or get_page_links functions"
      ]
    },
    {
      "cell_type": "code",
      "metadata": {
        "id": "O7lyr64PU7BD",
        "colab_type": "code",
        "colab": {
          "base_uri": "https://localhost:8080/",
          "height": 34
        },
        "outputId": "82adc1b9-7c7c-47f3-b868-f6b0ffabf2d8"
      },
      "source": [
        "%%writefile ./scrape.py\n",
        "from requests import get\n",
        "from bs4 import BeautifulSoup\n",
        "import time\n",
        "\n",
        "# Module variables\n",
        "rejected_parentheses = ['[']\n",
        "sleep_between_searches = 0.5 # in seconds\n",
        "\n",
        "def is_link_valid(link):\n",
        "  \"\"\" Function tests is a link is valid according to the properties mentioned above\n",
        "  link is invalid if empty, starts with rejected parenthesis, or has a parent with <i> tag i.e. italic\n",
        "\n",
        "  Args:\n",
        "    link (bs4.element.Tag): link object to evaluate its validity \n",
        "  \n",
        "  Returns: \n",
        "    bool: True if the link is valid, False otherwise\n",
        "  \"\"\"\n",
        "  fail_conds = []\n",
        "  fail_conds.append(  len(link.text.lstrip())==0  )\n",
        "  fail_conds.append(  len(link['href'])==0  )\n",
        "  fail_conds.append(  len(link.text.lstrip())>0 and link.text.lstrip()[0] in rejected_parentheses  )\n",
        "  fail_conds.append(  link.parent is not None and link.parent.name == 'i'  )\n",
        "  fail_conds.append(  len(link['href'])>0 and link['href'][0]=='#'  )\n",
        "  fail_conds.append(  'wiki/' not in link['href']  )\n",
        "  return True not in fail_conds\n",
        "  \n",
        "def get_page_links(url):\n",
        "  \"\"\" Scrapes a wikipedia url, gathers, and returns all valid links in the page\n",
        "\n",
        "  Args:\n",
        "    url (str): A valid wikipedia url\n",
        "\n",
        "  Returns:\n",
        "    list of bs4.element.Tag: a list of tags of type <a> that are valid links\n",
        "  \"\"\"\n",
        "  # Get wikipedia page\n",
        "  try:\n",
        "    response = get(url)\n",
        "    assert len(response.text)>0 # Empty article / invalid page\n",
        "  except:\n",
        "    print(\"Error getting {} page! This might result in an incorrect answer! Will try to use other pages.\".format(url))\n",
        "    return []\n",
        "  \n",
        "  # Parse webpage, and choose div with mw-parser-output id which contains main body of wikipedia pages\n",
        "  parsed_webpage = BeautifulSoup(response.text, 'html.parser')\n",
        "  try:\n",
        "    parsed_article_body = parsed_webpage.select('div.mw-parser-output')[0]\n",
        "    assert parsed_article_body is not None\n",
        "  except: # Couldn't find main body of the article\n",
        "    return []\n",
        "\n",
        "  # Get all links and find the valid ones\n",
        "  valid_links_list = []\n",
        "  for p in parsed_article_body.find_all(['p','li']):\n",
        "    new_links_list = p.find_all('a', href=True)\n",
        "    new_valid_links_list = [link for link in new_links_list if is_link_valid(link)]\n",
        "    valid_links_list.extend(new_valid_links_list)\n",
        "\n",
        "  return valid_links_list\n",
        "\n",
        "def get_is_target_found(links_list,target_name):\n",
        "  \"\"\" Check a link of links for a target\n",
        "\n",
        "  Args:\n",
        "    links_list (bs4.element.Tag of type <a>): list of valid links as bs4 <a> tags\n",
        "    target_name (str): the target name to reach (Ex: \"philosophy\")\n",
        "\n",
        "  Returns:\n",
        "    bool: True if target was found in the given list of links, False otherwise\n",
        "    link (bs4.element.Tag): the link where the target was found or None if the target wasn't found\n",
        "  \"\"\"\n",
        "  for link in links_list:\n",
        "      if target_name.lower() == link.text.lower():\n",
        "        return True,link\n",
        "  return False,None\n",
        "\n",
        "def DFS(link_url,link_name,visited_links,target_name,verbose=False):\n",
        "  \"\"\" Recursive function used to search for the target link using depth first search\n",
        "\n",
        "  Args:\n",
        "    link_url (str): valid wikipedia url to a link\n",
        "    link_name (str): name of the wikipedia page whose url was given in link_url\n",
        "    visited_links (list of str): a list of page names visited (names not urls)\n",
        "    target_name (str): word to search for (Ex: \"philosophy\")\n",
        "    verbose (bool): used for debugging purposes. If True, extra logging is done; if False, no extra logging is done\n",
        "\n",
        "  Returns:\n",
        "    bool: True if target_name was found, False if reached loop or dead end\n",
        "    list of str: a list of all visited links before reaching target or reacing a loop or dead end\n",
        "  \"\"\"\n",
        "  # Get new links from url and record url as visited\n",
        "  new_links_list = get_page_links(link_url)\n",
        "  visited_links.append(link_name)\n",
        "\n",
        "  if verbose: # For debugging, link statistics for current page\n",
        "    print(\"{}: has {} links\".format(link_name,len(new_links_list)))\n",
        "\n",
        "  # Check if target is in the new links list\n",
        "  is_target_found, target_link = get_is_target_found(new_links_list,target_name)\n",
        "  if is_target_found:\n",
        "    visited_links.append(target_link.text)\n",
        "    return True, visited_links\n",
        "\n",
        "  # Go through links to find the target recursively\n",
        "  for link in new_links_list:\n",
        "    if link.text not in visited_links: # a link is new\n",
        "      time.sleep(sleep_between_searches)\n",
        "      is_success, visited_links = DFS('https://wikipedia.org/'+link['href'],link.text,visited_links,target_name,verbose=verbose)\n",
        "\n",
        "      if is_success: # Found target\n",
        "        return True,visited_links\n",
        "  \n",
        "  if verbose and len(new_links_list)==0: # For debugging, reached dead end with no links\n",
        "    print(\"Reached dead end with no links at {}. Backing up to a previous link to continue search\".format(link_name))\n",
        "  \n",
        "  return False,visited_links # Target wasn't found in the given link or any of its children"
      ],
      "execution_count": 1,
      "outputs": [
        {
          "output_type": "stream",
          "text": [
            "Writing ./scrape.py\n"
          ],
          "name": "stdout"
        }
      ]
    },
    {
      "cell_type": "markdown",
      "metadata": {
        "id": "wCVjQdO0qd2U",
        "colab_type": "text"
      },
      "source": [
        "### Unit Tests"
      ]
    },
    {
      "cell_type": "code",
      "metadata": {
        "id": "XPhwWt411670",
        "colab_type": "code",
        "colab": {
          "base_uri": "https://localhost:8080/",
          "height": 34
        },
        "outputId": "41389369-5f78-4d85-b436-36fad68d2153"
      },
      "source": [
        "%%writefile ./unit_tests.py\n",
        "import unittest\n",
        "from scrape import *\n",
        "import time\n",
        "\n",
        "# Testing is_link_valid function\n",
        "class Test_is_link_valid(unittest.TestCase):\n",
        "  def test_parentheses(self):\n",
        "    test_examples = [BeautifulSoup('<a href=\"test/wiki/\">[rejected parenthesis]</a>','html.parser').find_all('a')[0], \n",
        "                     BeautifulSoup('<a href=\"test/wiki/\">    [rejected with white space]</a>','html.parser').find_all('a')[0],\n",
        "                     BeautifulSoup('<a href=\"test/wiki/\">(accepted parenthesis)</a>','html.parser').find_all('a')[0]]\n",
        "    test_answers = [False,False,True]\n",
        "    for example,answer in zip(test_examples,test_answers):\n",
        "      self.assertEqual(is_link_valid(example),answer)\n",
        "\n",
        "  def test_italic_parents(self):\n",
        "    test_examples = [BeautifulSoup('<i><a href=\"test/wiki/\">Test Italic</a><i>','html.parser').find_all('a')[0],\n",
        "                     BeautifulSoup('<a href=\"test/wiki/\">Test non Italic</a>','html.parser').find_all('a')[0]]\n",
        "    test_answers = [False,True]\n",
        "    for example,answer in zip(test_examples,test_answers):\n",
        "      self.assertEqual(is_link_valid(example),answer)\n",
        "  \n",
        "  def test_empty(self):\n",
        "    test_examples = [BeautifulSoup('<a href=\"test/wiki/\"></a>','html.parser').find_all('a')[0]]\n",
        "    test_answers = [False]\n",
        "    for example,answer in zip(test_examples,test_answers):\n",
        "      self.assertEqual(is_link_valid(example),answer)\n",
        "\n",
        "# Testing get_page_links function\n",
        "class Test_get_page_links(unittest.TestCase):\n",
        "  def test_random_pages(self):\n",
        "    num_tests = 10\n",
        "    for i in range(num_tests):\n",
        "      new_links = get_page_links('https://wikipedia.org/wiki/Special:Random')\n",
        "\n",
        "  def test_page_no_links(self):\n",
        "    # Can be found at https://en.wikipedia.org/wiki/Special:DeadendPages\n",
        "    test_urls = ['https://en.wikipedia.org/wiki/ASDP_Indonesia_Ferry',\n",
        "                 'https://en.wikipedia.org/wiki/Anthesphoria',\n",
        "                 'https://en.wikipedia.org/wiki/Association_of_Governing_Boards_of_Universities_and_Colleges',\n",
        "                 'https://en.wikipedia.org/wiki/Bonsa_Tyre_Factory']\n",
        "    for url in test_urls:\n",
        "      time.sleep(sleep_between_searches)\n",
        "      new_links = get_page_links(url)\n",
        "      self.assertEqual(len(new_links),0)\n",
        "  \n",
        "  def test_invalid_page(self): # Should print an Error message without throwing an error\n",
        "    test_urls = ['https://invalid.random.page/']\n",
        "    for url in test_urls:\n",
        "      time.sleep(sleep_between_searches)\n",
        "      new_links = get_page_links(url)\n",
        "      self.assertEqual(len(new_links),0)\n",
        "\n",
        "# Testing get_is_target_found function\n",
        "class Test_get_is_target_found(unittest.TestCase):\n",
        "  def test_target_upper(self):\n",
        "    test_examples = [BeautifulSoup('<a href=\"test/wiki/\">Target</a>','html.parser').find_all('a'),\n",
        "                 BeautifulSoup('<a href=\"test/wiki/\">tArGET</a>','html.parser').find_all('a'),\n",
        "                 BeautifulSoup('<a href=\"test/wiki/\">tArGEt</a>','html.parser').find_all('a'),\n",
        "                 BeautifulSoup('<a href=\"test/wiki/\">not here</a>','html.parser').find_all('a')]\n",
        "    target = 'tarGeT'\n",
        "    test_answers = [True,True,True,False]\n",
        "    for example,answer in zip(test_examples,test_answers):\n",
        "      self.assertEqual(get_is_target_found(example,target)[0],answer)\n",
        "      \n"
      ],
      "execution_count": 2,
      "outputs": [
        {
          "output_type": "stream",
          "text": [
            "Writing ./unit_tests.py\n"
          ],
          "name": "stdout"
        }
      ]
    },
    {
      "cell_type": "code",
      "metadata": {
        "id": "3z69pQp8-xfG",
        "colab_type": "code",
        "colab": {
          "base_uri": "https://localhost:8080/",
          "height": 118
        },
        "outputId": "9b5b1437-979e-4bfc-f2e1-33555a085b08"
      },
      "source": [
        "!python -m unittest unit_tests"
      ],
      "execution_count": 3,
      "outputs": [
        {
          "output_type": "stream",
          "text": [
            ".Error getting https://invalid.random.page/ page! This might result in an incorrect answer! Will try to use other pages.\n",
            "......\n",
            "----------------------------------------------------------------------\n",
            "Ran 7 tests in 8.400s\n",
            "\n",
            "OK\n"
          ],
          "name": "stdout"
        }
      ]
    },
    {
      "cell_type": "markdown",
      "metadata": {
        "id": "I-Q9PSIeqfoK",
        "colab_type": "text"
      },
      "source": [
        "### Integration Tests"
      ]
    },
    {
      "cell_type": "code",
      "metadata": {
        "id": "rLfib764gzy1",
        "colab_type": "code",
        "colab": {
          "base_uri": "https://localhost:8080/",
          "height": 541
        },
        "outputId": "8be1b497-6765-4e62-8a90-9379e9f12f76"
      },
      "source": [
        "from scrape import *\n",
        "\n",
        "# Testing full framework, 10 random tests\n",
        "num_tests = 30\n",
        "num_nodes_to_end = []\n",
        "\n",
        "for i in range(num_tests):\n",
        "  is_found,visited_list = DFS('https://en.wikipedia.org/wiki/Special:Random','Special:Random',[],'philosophy',verbose=False)\n",
        "  if is_found:\n",
        "    num_nodes_to_end.append(len(visited_list))\n",
        "    print(visited_list)\n",
        "  else:\n",
        "    print(\"Not found\")"
      ],
      "execution_count": 4,
      "outputs": [
        {
          "output_type": "stream",
          "text": [
            "['Special:Random', 'Alternative rock', 'Punk rock', 'Garage rock', 'Rock and roll', 'Rhythm and blues', 'Jazz', 'Blues', 'Work songs', 'sea shanties', 'work song', 'street cries', 'medieval period', 'Philosophy']\n",
            "['Special:Random', 'footballer', 'The Beautiful Game', 'Portuguese', 'Brazilians', 'Brazil', 'Coordinates', 'Geodesy', 'Geodynamics', 'Geomatics', 'History', 'Geographical distance', 'Geoid', 'Figure of the Earth', 'Earth radius', \"Earth's circumference\", 'distance around', 'Outline', 'Euclidean', 'Non-Euclidean', 'Philosophy']\n",
            "['Special:Random', 'Imperial College London', 'ACU', 'Commonwealth', 'Antigua and Barbuda', 'Coordinates', 'Geodesy', 'Geodynamics', 'Geomatics', 'History', 'Geographical distance', 'Geoid', 'Figure of the Earth', 'Earth radius', \"Earth's circumference\", 'distance around', 'Outline', 'Euclidean', 'Non-Euclidean', 'Philosophy']\n",
            "['Special:Random', 'studio album', 'compact disc', 'Optical disc', 'DRAM', 'SDRAM', 'DDR', 'GDDR', 'HBM', 'SRAM', 'Williams–Kilburn tube', 'Delay line memory', 'Mellon optical memory', 'computer memory', 'Selectron tube', 'Dekatron', 'T-RAM', 'Z-RAM', 'Mask ROM', 'PROM', 'EPROM', 'EEPROM', 'Flash memory', 'ReRAM', 'FeRAM', 'MRAM', 'PCM', '3D XPoint', 'FeFET memory', 'Magnetic tape data storage', 'Linear Tape-Open', 'Hard disk drive', '5D optical data storage', 'CBRAM', 'Racetrack memory', 'NRAM', 'Millipede memory', 'ECRAM', 'Paper data storage', 'paper', 'cellulose', 'organic compound', 'chemistry', 'philosophy']\n",
            "['Special:Random', '2001–02 South-West Indian Ocean cyclone season', '2001–02 Australian region cyclone season', '2001–02 South Pacific cyclone season', 'named storms', 'Central dense overcast', 'tropical cyclone', 'Winter', 'Spring', 'Summer', 'Autumn', 'Dry season', 'Harmattan', 'Wet season', 'Cloud', 'Cumulonimbus cloud', 'Arcus cloud', 'Downburst', 'Microburst', 'Heat burst', 'Derecho', '/dəˈreɪtʃoʊ/', 'International Phonetic Alphabet', 'Romic alphabet', 'phonetic alphabet', 'phones', 'phonetics', 'Acoustic', 'Articulatory', 'Auditory', 'Labial', 'lips', 'erogenous zone', 'human body', 'human being', 'philosophy']\n",
            "['Special:Random', 'Malay', 'Indonesian', 'Malayo-Polynesian', 'Western Malayo-Polynesian', 'paraphyletic', 'taxonomy', 'categorization', 'grounded', 'cognitive science', 'philosophy']\n",
            "['Special:Random', 'Antonín Jílek', 'sports shooter', 'competitive', 'goal', 'idea', 'philosophy']\n",
            "['Special:Random', 'Louisiana Supreme Court', 'United States Constitution', 'Philosophy']\n",
            "['Special:Random', 'Richèl Hogenkamp', 'WTA', 'ratings', 'crowdsourcing', 'sourcing model', 'goods and services', 'Business', 'Anguilla', 'statutes', 'legislative', 'Unicameralism', 'Multicameralism', 'Bicameralism', 'Tricameralism', 'Tetracameralism', 'Upper house', 'Senate', 'deliberative assembly', 'collective', 'Collaborative intelligence', 'multi-agent', 'intelligent agents', 'artificial intelligence', 'philosophy']\n",
            "['Special:Random', 'Chicago Cubs', 'National League', 'Major League Baseball', 'ESPN/ESPN2', 'ESPN', 'ESPN+', 'over-the-top', 'streaming media', 'Digital distribution', 'E-books', 'Software', 'data', 'mass noun', 'Animacy', 'Case', 'Dative construction', 'Dative shift', 'Quirky subject', 'Classifier', 'Construct state', 'Count noun', 'Mass noun', 'Collective noun', 'Definiteness', 'Gender', 'Genitive construction', 'Possession', 'Suffixaufnahme (case stacking)', 'Noun class', 'Number', 'Plural', 'Dual', 'Trial, etc.', 'Singulative-Collective-Plurative', 'Specificity', 'Universal grinder', 'Associated motion', 'Clusivity', 'Conjugation', 'Evidentiality', 'Modality', 'Person', 'Telicity', 'Tense–aspect–mood', 'Grammatical aspect', 'Lexical aspect (Aktionsart)', 'Mood', 'Tense', 'Voice', 'Affect', 'Boundedness', 'Comparison (degree)', 'Pluractionality', 'Honorifics (politeness)', 'Polarity', 'Reciprocity', 'Reflexive pronoun', 'v', 't', 'Language portal', 'Philosophy']\n",
            "['Special:Random', 'Maginot Line', 'André Maginot', 'Member of Parliament', 'Unicameralism', 'Multicameralism', 'Bicameralism', 'Tricameralism', 'Tetracameralism', 'Upper house', 'Senate', 'deliberative assembly', 'collective', 'Collaborative intelligence', 'multi-agent', 'intelligent agents', 'artificial intelligence', 'philosophy']\n",
            "['Special:Random', 'mansion', 'house', 'building', 'structure', 'system', 'interacting', 'Philosophy']\n",
            "['Special:Random', 'copyright attribution', 'Copyright policy', 'Copyright violation policy', 'Reusing Wikipedia content', 'Text of CC BY-SA 3.0 Unported License', 'Text of CC BY-SA 4.0 International License', 'Text of the GFDL', 'Public domain content', 'Non-free content', 'fair use', \"Authors' rights\", 'laws about intellectual property', 'Philosophy']\n",
            "['Special:Random', 'lawn and Indoor bowler', 'sport', 'competitive', 'goal', 'idea', 'philosophy']\n",
            "['Special:Random', 'psychiatric drug', 'psychoactive drug', 'cocaine', 'DailyMed', 'U.S. National Library of Medicine', 'United States federal government', 'Philosophy']\n",
            "['Special:Random', 'Hollywood, California', 'neighborhood', \"World's largest cities\", \"World's densest population\", \"World's largest conurbations\", 'World megacities', 'World megalopolises', 'v', 't', 'Geography portal', 'Philosophy']\n",
            "['Special:Random', 'The Walt Disney Company', 'NYSE', 'Jeffrey Sprecher', 'Intercontinental Exchange', 'S&P 500', 'S&P 1500', 'S&P 400', 'stock market index', 'index', 'economics', 'Index', 'Outline', 'outline', 'hierarchical', 'philosophy']\n",
            "['Special:Random', 'graph theory', 'mathematics', 'Lists', 'Outline', 'Mathematics', 'Portal', 'maintained', 'Philosophy']\n",
            "['Special:Random', 'soft ionization', 'atom', 'matter', 'classical physics', 'physics', 'philosophy']\n",
            "['Special:Random', 'Curtis Lewis', 'Fort Worth, Texas', 'fifth-largest city', 'incorporated', 'local governing body', 'Associated state', 'Chiefdom', 'Ascribed status', 'Achieved status', 'Social status', 'History', 'philosophy']\n",
            "['Special:Random', 'Chancellor', 'university system', 'universities', 'Philosophy']\n",
            "['Special:Random', 'Mythology', 'Philosophy']\n",
            "['Special:Random', 'butterflies', 'Hedyloidea', 'List of species', 'family', 'Introduction to evolution', 'Common descent', 'Evidence', 'Population genetics', 'Variation', 'Diversity', 'Mutation', 'Natural selection', 'Adaptation', 'Polymorphism', 'Genetic drift', 'Gene flow', 'population genetics', 'Speciation', 'Adaptive radiation', 'Co-operation', 'Coevolution', 'Coextinction', 'Divergence', 'speciation', 'Convergence', 'Parallel evolution', 'Richard Dawkins', 'Gene-centred view of evolution', 'Extinction', 'Extinct in the Wild (EW)', 'Extinct (EX)', 'list', 'IUCN Red List of Threatened Species', 'International Union for Conservation of Nature', 'Gland, Switzerland', 'municipality', 'German', 'Philosophy']\n",
            "['Special:Random', 'Persian', 'Iran', 'philosophy']\n",
            "['Special:Random', 'county', 'Philosophy']\n",
            "['Special:Random', 'German', 'Philosophy']\n",
            "['Special:Random', 'beetle', 'Adephaga', 'Greek', 'Philosophy']\n",
            "['Special:Random', 'mountain guide', 'mountaineer', 'mountains', 'landform', 'planetary body', 'secondary body', 'astrodynamics', 'Apsis', 'Argument of periapsis', 'Azimuth', 'Eccentricity', 'Inclination', 'Mean anomaly', 'Orbital nodes', 'Semi-major axis', 'True anomaly', 'Circular orbit', 'Elliptic orbit', 'Hohmann transfer orbit', 'Bi-elliptic transfer orbit', 'astronautics', \"Earth's atmosphere\", 'gases', 'Mass', 'Momentum', 'Energy', 'Clausius–Duhem (entropy)', 'Deformation', 'Elasticity', 'linear', 'Plasticity', 'True elastic limit', 'v', 't', 'Physics portal', 'philosophy']\n",
            "['Special:Random', 'St. Louis', 'National Football League', 'American football', 'Football', 'team sports', 'sport', 'competitive', 'goal', 'idea', 'philosophy']\n",
            "['Special:Random', 'Dabolim Airport', 'IATA', 'location identifier', 'airport', 'aerodrome', 'Commonwealth English', 'English language', 'Germanic', 'North Germanic', 'East Scandinavian', 'West Scandinavian', 'Norn', 'Old West Norse', 'Old Icelandic', 'Old Norwegian', 'Norwegian', 'Middle Norwegian', 'Proto-Norse', 'Indo-European', 'Balto-Slavic', 'Slavic', 'East Slavic', 'Belarusian', 'Ruthenian', 'varieties', 'Code-switching', 'Diglossia', 'Language change', 'language', 'structured', 'Outline', 'History', 'Index', 'Acquisition', 'Anthropological', 'Archaeological', 'Biological', 'Primate', 'classification', '/ˈpraɪmeɪt/', 'International Phonetic Alphabet', 'Romic alphabet', 'phonetic alphabet', 'phones', 'phonetics', 'Acoustic', 'Articulatory', 'Auditory', 'Labial', 'lips', 'erogenous zone', 'human body', 'human being', 'philosophy']\n"
          ],
          "name": "stdout"
        }
      ]
    },
    {
      "cell_type": "code",
      "metadata": {
        "id": "oo1WjoqNIi3V",
        "colab_type": "code",
        "colab": {
          "base_uri": "https://localhost:8080/",
          "height": 218
        },
        "outputId": "5a18ab97-fb4e-4e28-bac1-d274b566508d"
      },
      "source": [
        "# Testing full framework on dead ends, can be found at https://en.wikipedia.org/wiki/Special:DeadendPages\n",
        "\n",
        "test_dead_urls = ['https://en.wikipedia.org/wiki/ASDP_Indonesia_Ferry',\n",
        "                 'https://en.wikipedia.org/wiki/Anthesphoria',\n",
        "                 'https://en.wikipedia.org/wiki/Association_of_Governing_Boards_of_Universities_and_Colleges',\n",
        "                 'https://en.wikipedia.org/wiki/Bonsa_Tyre_Factory']\n",
        "\n",
        "for url in test_dead_urls:\n",
        "  is_found,visited_list = DFS(url,'Dead link',[],'philosophy',verbose=True)\n",
        "  if is_found:\n",
        "    print(visited_list)\n",
        "  else:\n",
        "    print(\"Not found\")"
      ],
      "execution_count": 5,
      "outputs": [
        {
          "output_type": "stream",
          "text": [
            "Dead link: has 0 links\n",
            "Reached dead end with no links at Dead link. Backing up to a previous link to continue search\n",
            "Not found\n",
            "Dead link: has 0 links\n",
            "Reached dead end with no links at Dead link. Backing up to a previous link to continue search\n",
            "Not found\n",
            "Dead link: has 0 links\n",
            "Reached dead end with no links at Dead link. Backing up to a previous link to continue search\n",
            "Not found\n",
            "Dead link: has 0 links\n",
            "Reached dead end with no links at Dead link. Backing up to a previous link to continue search\n",
            "Not found\n"
          ],
          "name": "stdout"
        }
      ]
    },
    {
      "cell_type": "markdown",
      "metadata": {
        "id": "Zq35lfPzqhJ-",
        "colab_type": "text"
      },
      "source": [
        "### Evaluation Results and Insights\n",
        "* Average number of nodes/websites to search before reaching 'philosophy' is around \n",
        "* The variance of it is which is mainly due to outliers"
      ]
    },
    {
      "cell_type": "code",
      "metadata": {
        "id": "q9eIlcUMKCOi",
        "colab_type": "code",
        "colab": {
          "base_uri": "https://localhost:8080/",
          "height": 34
        },
        "outputId": "bffda2a0-5ba1-41be-b0d2-a7a5077d6063"
      },
      "source": [
        "import numpy as np\n",
        "\n",
        "print(\"Number of nodes to search has mean = {:.2f} and std = {:.2f})\".format(np.mean(num_nodes_to_end),np.std(num_nodes_to_end)))"
      ],
      "execution_count": 6,
      "outputs": [
        {
          "output_type": "stream",
          "text": [
            "Number of nodes to search has mean = 17.37 and std = 15.71)\n"
          ],
          "name": "stdout"
        }
      ]
    },
    {
      "cell_type": "code",
      "metadata": {
        "id": "7vUcHt6rqjC0",
        "colab_type": "code",
        "colab": {
          "base_uri": "https://localhost:8080/",
          "height": 295
        },
        "outputId": "d9e5f354-b863-4f52-a939-cb10688ab138"
      },
      "source": [
        "import matplotlib.pyplot as plt\n",
        "\n",
        "plt.title(\"Number of nodes to find Philosophy\")\n",
        "plt.xlabel(\"Number of nodes\")\n",
        "plt.ylabel(\"Frequency\")\n",
        "plt.hist(num_nodes_to_end)\n",
        "plt.show()"
      ],
      "execution_count": 7,
      "outputs": [
        {
          "output_type": "display_data",
          "data": {
            "image/png": "[encoded data removed]",
            "text/plain": [
              "<Figure size 432x288 with 1 Axes>"
            ]
          },
          "metadata": {
            "tags": [],
            "needs_background": "light"
          }
        }
      ]
    }
  ]
}